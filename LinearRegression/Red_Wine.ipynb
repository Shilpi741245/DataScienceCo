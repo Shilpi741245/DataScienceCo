{
 "cells": [
  {
   "cell_type": "code",
   "execution_count": null,
   "id": "962a6169-4fca-4470-91ea-803f060c5f43",
   "metadata": {},
   "outputs": [],
   "source": [
    "!pip install numpy\n",
    "!pip install pandas\n",
    "import numpy as np\n",
    "import pandas as pd\n",
    "import matplotlib.pyplot as plt\n",
    "import seaborn as sns"
   ]
  },
  {
   "cell_type": "code",
   "execution_count": null,
   "id": "e41cc4a9-f7b6-40b0-9100-2b86a7017c4d",
   "metadata": {},
   "outputs": [],
   "source": [
    "df=pd.read_csv('Documents/Python Scripts/Linear Regression/Red Wine/winequality-red.csv')\n",
    "df.head(10)"
   ]
  },
  {
   "cell_type": "code",
   "execution_count": null,
   "id": "94e39018-afe3-42e1-99d3-fb62375f9464",
   "metadata": {},
   "outputs": [],
   "source": []
  }
 ],
 "metadata": {
  "kernelspec": {
   "display_name": "Python 3 (ipykernel)",
   "language": "python",
   "name": "python3"
  },
  "language_info": {
   "codemirror_mode": {
    "name": "ipython",
    "version": 3
   },
   "file_extension": ".py",
   "mimetype": "text/x-python",
   "name": "python",
   "nbconvert_exporter": "python",
   "pygments_lexer": "ipython3",
   "version": "3.12.4"
  }
 },
 "nbformat": 4,
 "nbformat_minor": 5
}
